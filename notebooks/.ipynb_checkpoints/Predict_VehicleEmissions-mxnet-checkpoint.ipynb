{
 "cells": [
  {
   "cell_type": "code",
   "execution_count": 1,
   "metadata": {},
   "outputs": [],
   "source": [
    "import numpy as np\n",
    "import pandas as pd\n",
    "import xarray as xr\n",
    "import matplotlib.pyplot as plt\n",
    "import cartopy.crs as ccrs"
   ]
  },
  {
   "cell_type": "code",
   "execution_count": 2,
   "metadata": {},
   "outputs": [],
   "source": [
    "ds = xr.open_dataset('annual_low_wind.nc')"
   ]
  },
  {
   "cell_type": "code",
   "execution_count": 3,
   "metadata": {},
   "outputs": [
    {
     "data": {
      "text/html": [
       "<pre>&lt;xarray.Dataset&gt;\n",
       "Dimensions:                    (lat: 71, lon: 231)\n",
       "Coordinates:\n",
       "  * lat                        (lat) float64 17.9 17.91 17.92 ... 18.59 18.6\n",
       "  * lon                        (lon) float64 -67.4 -67.39 ... -65.11 -65.1\n",
       "    land_mask                  (lat, lon) float64 ...\n",
       "    plants_mask                (lat, lon) float64 ...\n",
       "    no_plants_mask             (lat, lon) float64 ...\n",
       "Data variables:\n",
       "    NO2_column_number_density  (lat, lon) float64 ...\n",
       "    cloud_fraction             (lat, lon) float64 ...\n",
       "    wind_speed_mean            (lat, lon) float64 ...\n",
       "    night_avg_rad              (lat, lon) float64 ...\n",
       "    population_density         (lat, lon) float64 ...\n",
       "    landcover_category         (lat, lon) float64 ...\n",
       "    gldas_wind_mean            (lat, lon) float64 ...\n",
       "    gldas_airT_mean            (lat, lon) float64 ...\n",
       "    gldas_airT_max             (lat, lon) float64 ...\n",
       "    gldas_airT_min             (lat, lon) float64 ...\n",
       "    gldas_lwdown_mean          (lat, lon) float64 ...\n",
       "    gldas_pres_mean            (lat, lon) float64 ...\n",
       "    gldas_humidity_mean        (lat, lon) float64 ...\n",
       "    gldas_heatflux_mean        (lat, lon) float64 ...\n",
       "    gldas_rain_max             (lat, lon) float64 ...\n",
       "    gldas_SWdown_max           (lat, lon) float64 ...\n",
       "    gfs_temp_mean              (lat, lon) float64 ...\n",
       "    gfs_temp_max               (lat, lon) float64 ...\n",
       "    gfs_temp_min               (lat, lon) float64 ...\n",
       "    gfs_humidity_mean          (lat, lon) float64 ...\n",
       "    gfs_rain_max               (lat, lon) float64 ...</pre>"
      ],
      "text/plain": [
       "<xarray.Dataset>\n",
       "Dimensions:                    (lat: 71, lon: 231)\n",
       "Coordinates:\n",
       "  * lat                        (lat) float64 17.9 17.91 17.92 ... 18.59 18.6\n",
       "  * lon                        (lon) float64 -67.4 -67.39 ... -65.11 -65.1\n",
       "    land_mask                  (lat, lon) float64 ...\n",
       "    plants_mask                (lat, lon) float64 ...\n",
       "    no_plants_mask             (lat, lon) float64 ...\n",
       "Data variables:\n",
       "    NO2_column_number_density  (lat, lon) float64 ...\n",
       "    cloud_fraction             (lat, lon) float64 ...\n",
       "    wind_speed_mean            (lat, lon) float64 ...\n",
       "    night_avg_rad              (lat, lon) float64 ...\n",
       "    population_density         (lat, lon) float64 ...\n",
       "    landcover_category         (lat, lon) float64 ...\n",
       "    gldas_wind_mean            (lat, lon) float64 ...\n",
       "    gldas_airT_mean            (lat, lon) float64 ...\n",
       "    gldas_airT_max             (lat, lon) float64 ...\n",
       "    gldas_airT_min             (lat, lon) float64 ...\n",
       "    gldas_lwdown_mean          (lat, lon) float64 ...\n",
       "    gldas_pres_mean            (lat, lon) float64 ...\n",
       "    gldas_humidity_mean        (lat, lon) float64 ...\n",
       "    gldas_heatflux_mean        (lat, lon) float64 ...\n",
       "    gldas_rain_max             (lat, lon) float64 ...\n",
       "    gldas_SWdown_max           (lat, lon) float64 ...\n",
       "    gfs_temp_mean              (lat, lon) float64 ...\n",
       "    gfs_temp_max               (lat, lon) float64 ...\n",
       "    gfs_temp_min               (lat, lon) float64 ...\n",
       "    gfs_humidity_mean          (lat, lon) float64 ...\n",
       "    gfs_rain_max               (lat, lon) float64 ..."
      ]
     },
     "execution_count": 3,
     "metadata": {},
     "output_type": "execute_result"
    }
   ],
   "source": [
    "ds"
   ]
  },
  {
   "cell_type": "code",
   "execution_count": 4,
   "metadata": {},
   "outputs": [],
   "source": [
    "ds['landcover_category'] = ds['landcover_category'].fillna(0)\n",
    "ds_land = ds.where((ds.land_mask == 1) & \n",
    "                   (ds.no_plants_mask == 1) & \n",
    "                   (ds.landcover_category == 0))"
   ]
  },
  {
   "cell_type": "code",
   "execution_count": 5,
   "metadata": {},
   "outputs": [
    {
     "data": {
      "image/png": "[encoded data removed]",
      "text/plain": [
       "<Figure size 432x288 with 2 Axes>"
      ]
     },
     "metadata": {
      "needs_background": "light"
     },
     "output_type": "display_data"
    }
   ],
   "source": [
    "ax = plt.axes(projection=ccrs.LambertConformal(central_longitude=-65, central_latitude=18))\n",
    "ds_land.night_avg_rad.plot(ax=ax, transform=ccrs.PlateCarree());\n",
    "ax.set_extent([-67.5, -65, 17.5, 19])\n",
    "ax.set_aspect(\"equal\")"
   ]
  },
  {
   "cell_type": "code",
   "execution_count": 6,
   "metadata": {},
   "outputs": [
    {
     "data": {
      "image/png": "[encoded data removed]",
      "text/plain": [
       "<Figure size 432x288 with 2 Axes>"
      ]
     },
     "metadata": {
      "needs_background": "light"
     },
     "output_type": "display_data"
    }
   ],
   "source": [
    "ax = plt.axes(projection=ccrs.LambertConformal(central_longitude=-65, central_latitude=18))\n",
    "ds_land.NO2_column_number_density.plot(ax=ax, transform=ccrs.PlateCarree());\n",
    "ax.set_extent([-67.5, -65, 17.5, 19])\n",
    "ax.set_aspect(\"equal\")"
   ]
  },
  {
   "cell_type": "code",
   "execution_count": 7,
   "metadata": {},
   "outputs": [],
   "source": [
    "ds_vehicles = ds_land[['NO2_column_number_density', 'night_avg_rad', 'population_density', 'cloud_fraction', 'gfs_temp_mean', 'gfs_humidity_mean']]\n",
    "ds_vehicles = ds_vehicles.drop(['no_plants_mask','plants_mask','land_mask'])\n",
    "df_vehicles = ds_vehicles.to_dataframe().dropna()"
   ]
  },
  {
   "cell_type": "code",
   "execution_count": 8,
   "metadata": {},
   "outputs": [
    {
     "data": {
      "text/html": [
       "<div>\n",
       "<style scoped>\n",
       "    .dataframe tbody tr th:only-of-type {\n",
       "        vertical-align: middle;\n",
       "    }\n",
       "\n",
       "    .dataframe tbody tr th {\n",
       "        vertical-align: top;\n",
       "    }\n",
       "\n",
       "    .dataframe thead th {\n",
       "        text-align: right;\n",
       "    }\n",
       "</style>\n",
       "<table border=\"1\" class=\"dataframe\">\n",
       "  <thead>\n",
       "    <tr style=\"text-align: right;\">\n",
       "      <th></th>\n",
       "      <th></th>\n",
       "      <th>NO2_column_number_density</th>\n",
       "      <th>night_avg_rad</th>\n",
       "      <th>population_density</th>\n",
       "      <th>cloud_fraction</th>\n",
       "      <th>gfs_temp_mean</th>\n",
       "      <th>gfs_humidity_mean</th>\n",
       "    </tr>\n",
       "    <tr>\n",
       "      <th>lat</th>\n",
       "      <th>lon</th>\n",
       "      <th></th>\n",
       "      <th></th>\n",
       "      <th></th>\n",
       "      <th></th>\n",
       "      <th></th>\n",
       "      <th></th>\n",
       "    </tr>\n",
       "  </thead>\n",
       "  <tbody>\n",
       "    <tr>\n",
       "      <th>17.93</th>\n",
       "      <th>-66.21</th>\n",
       "      <td>0.000045</td>\n",
       "      <td>1.140956</td>\n",
       "      <td>1.732666</td>\n",
       "      <td>0.196446</td>\n",
       "      <td>24.521290</td>\n",
       "      <td>0.015105</td>\n",
       "    </tr>\n",
       "    <tr>\n",
       "      <th rowspan=\"4\" valign=\"top\">17.94</th>\n",
       "      <th>-66.95</th>\n",
       "      <td>0.000048</td>\n",
       "      <td>1.828841</td>\n",
       "      <td>12.463571</td>\n",
       "      <td>0.130404</td>\n",
       "      <td>25.275087</td>\n",
       "      <td>0.014993</td>\n",
       "    </tr>\n",
       "    <tr>\n",
       "      <th>-66.94</th>\n",
       "      <td>0.000048</td>\n",
       "      <td>0.980220</td>\n",
       "      <td>3.140551</td>\n",
       "      <td>0.136066</td>\n",
       "      <td>25.275087</td>\n",
       "      <td>0.014993</td>\n",
       "    </tr>\n",
       "    <tr>\n",
       "      <th>-66.93</th>\n",
       "      <td>0.000048</td>\n",
       "      <td>0.557375</td>\n",
       "      <td>0.331326</td>\n",
       "      <td>0.131555</td>\n",
       "      <td>25.275087</td>\n",
       "      <td>0.014993</td>\n",
       "    </tr>\n",
       "    <tr>\n",
       "      <th>-66.21</th>\n",
       "      <td>0.000045</td>\n",
       "      <td>1.896973</td>\n",
       "      <td>5.282019</td>\n",
       "      <td>0.201017</td>\n",
       "      <td>24.521290</td>\n",
       "      <td>0.015105</td>\n",
       "    </tr>\n",
       "  </tbody>\n",
       "</table>\n",
       "</div>"
      ],
      "text/plain": [
       "              NO2_column_number_density  night_avg_rad  population_density  \\\n",
       "lat   lon                                                                    \n",
       "17.93 -66.21                   0.000045       1.140956            1.732666   \n",
       "17.94 -66.95                   0.000048       1.828841           12.463571   \n",
       "      -66.94                   0.000048       0.980220            3.140551   \n",
       "      -66.93                   0.000048       0.557375            0.331326   \n",
       "      -66.21                   0.000045       1.896973            5.282019   \n",
       "\n",
       "              cloud_fraction  gfs_temp_mean  gfs_humidity_mean  \n",
       "lat   lon                                                       \n",
       "17.93 -66.21        0.196446      24.521290           0.015105  \n",
       "17.94 -66.95        0.130404      25.275087           0.014993  \n",
       "      -66.94        0.136066      25.275087           0.014993  \n",
       "      -66.93        0.131555      25.275087           0.014993  \n",
       "      -66.21        0.201017      24.521290           0.015105  "
      ]
     },
     "execution_count": 8,
     "metadata": {},
     "output_type": "execute_result"
    }
   ],
   "source": [
    "df_vehicles.head()"
   ]
  },
  {
   "cell_type": "code",
   "execution_count": 9,
   "metadata": {},
   "outputs": [],
   "source": [
    "test = df_vehicles[df_vehicles['cloud_fraction']<0.15]"
   ]
  },
  {
   "cell_type": "code",
   "execution_count": 13,
   "metadata": {},
   "outputs": [
    {
     "data": {
      "text/plain": [
       "4.408486427496133e-05"
      ]
     },
     "execution_count": 13,
     "metadata": {},
     "output_type": "execute_result"
    }
   ],
   "source": [
    "test['NO2_column_number_density'].min()"
   ]
  },
  {
   "cell_type": "code",
   "execution_count": 10,
   "metadata": {},
   "outputs": [
    {
     "data": {
      "text/plain": [
       "<matplotlib.collections.PathCollection at 0x116eeb550>"
      ]
     },
     "execution_count": 10,
     "metadata": {},
     "output_type": "execute_result"
    },
    {
     "data": {
      "image/png": "[encoded data removed]",
      "text/plain": [
       "<Figure size 432x288 with 1 Axes>"
      ]
     },
     "metadata": {
      "needs_background": "light"
     },
     "output_type": "display_data"
    }
   ],
   "source": [
    "plt.scatter(np.log(test['night_avg_rad']),(test['NO2_column_number_density'] - test['NO2_column_number_density'].min()))"
   ]
  },
  {
   "cell_type": "code",
   "execution_count": 50,
   "metadata": {},
   "outputs": [
    {
     "data": {
      "text/plain": [
       "(277, 4)"
      ]
     },
     "execution_count": 50,
     "metadata": {},
     "output_type": "execute_result"
    }
   ],
   "source": [
    "X = mx.nd.array([np.log(test['night_avg_rad']), test['gfs_temp_mean'], test['gfs_humidity_mean'], test['cloud_fraction']]).T\n",
    "X.shape"
   ]
  },
  {
   "cell_type": "code",
   "execution_count": 51,
   "metadata": {},
   "outputs": [
    {
     "data": {
      "text/plain": [
       "(277, 1)"
      ]
     },
     "execution_count": 51,
     "metadata": {},
     "output_type": "execute_result"
    }
   ],
   "source": [
    "Y = mx.nd.array([(test['NO2_column_number_density'] - test['NO2_column_number_density'].min())]).T\n",
    "Y.shape"
   ]
  },
  {
   "cell_type": "code",
   "execution_count": 52,
   "metadata": {},
   "outputs": [
    {
     "name": "stdout",
     "output_type": "stream",
     "text": [
      "\n",
      "[6.0368222e-01 2.5275087e+01 1.4993177e-02 1.3040392e-01]\n",
      "<NDArray 4 @cpu(0)>\n",
      "\n",
      "[4.163716]\n",
      "<NDArray 1 @cpu(0)>\n"
     ]
    }
   ],
   "source": [
    "print(X[0])\n",
    "print(y[0])"
   ]
  },
  {
   "cell_type": "code",
   "execution_count": 75,
   "metadata": {},
   "outputs": [],
   "source": [
    "batch_size = 10\n",
    "train_data = gluon.data.DataLoader(gluon.data.ArrayDataset(X, Y),\n",
    "                                   batch_size=batch_size, shuffle=True)"
   ]
  },
  {
   "cell_type": "code",
   "execution_count": 54,
   "metadata": {},
   "outputs": [
    {
     "name": "stdout",
     "output_type": "stream",
     "text": [
      "\n",
      "[[-1.2672977e-01  2.6885862e+01  1.5378312e-02  3.0464429e-02]\n",
      " [ 4.5446053e-01  2.6885862e+01  1.5378312e-02  3.3456095e-02]\n",
      " [ 3.3727276e+00  2.7995699e+01  1.5915504e-02  8.3659127e-02]\n",
      " [ 3.6614180e+00  2.7995699e+01  1.5915504e-02  7.6351337e-02]]\n",
      "<NDArray 4x4 @cpu(0)> \n",
      "[[2.5590564e-06]\n",
      " [3.5871917e-06]\n",
      " [2.1580432e-05]\n",
      " [2.2557515e-05]]\n",
      "<NDArray 4x1 @cpu(0)>\n"
     ]
    }
   ],
   "source": [
    "for i, (data, label) in enumerate(train_data):\n",
    "    print(data, label)\n",
    "    break"
   ]
  },
  {
   "cell_type": "code",
   "execution_count": 63,
   "metadata": {},
   "outputs": [],
   "source": [
    "num_inputs = 4\n",
    "num_outputs = 1\n",
    "w = nd.random_normal(shape=(num_inputs, num_outputs), ctx=model_ctx)\n",
    "b = nd.random_normal(shape=num_outputs, ctx=model_ctx)\n",
    "params = [w, b]"
   ]
  },
  {
   "cell_type": "code",
   "execution_count": 64,
   "metadata": {},
   "outputs": [],
   "source": [
    "for param in params:\n",
    "    param.attach_grad()"
   ]
  },
  {
   "cell_type": "code",
   "execution_count": 65,
   "metadata": {},
   "outputs": [
    {
     "data": {
      "text/plain": [
       "4"
      ]
     },
     "execution_count": 65,
     "metadata": {},
     "output_type": "execute_result"
    }
   ],
   "source": [
    "num_inputs"
   ]
  },
  {
   "cell_type": "code",
   "execution_count": 66,
   "metadata": {},
   "outputs": [
    {
     "data": {
      "text/plain": [
       "1"
      ]
     },
     "execution_count": 66,
     "metadata": {},
     "output_type": "execute_result"
    }
   ],
   "source": [
    "num_outputs"
   ]
  },
  {
   "cell_type": "code",
   "execution_count": 67,
   "metadata": {},
   "outputs": [],
   "source": [
    "def net(X):\n",
    "    return mx.nd.dot(X, w) + b"
   ]
  },
  {
   "cell_type": "code",
   "execution_count": 68,
   "metadata": {},
   "outputs": [],
   "source": [
    "def square_loss(yhat, y):\n",
    "    return nd.mean((yhat - y) ** 2)"
   ]
  },
  {
   "cell_type": "code",
   "execution_count": 76,
   "metadata": {},
   "outputs": [],
   "source": [
    "from mxnet import gluon"
   ]
  },
  {
   "cell_type": "code",
   "execution_count": 86,
   "metadata": {},
   "outputs": [],
   "source": [
    "from mxnet.gluon import nn \n",
    "\n",
    "net = nn.Sequential()\n",
    "net.add(nn.Dense(1))"
   ]
  },
  {
   "cell_type": "code",
   "execution_count": 87,
   "metadata": {},
   "outputs": [],
   "source": [
    "from mxnet import init\n",
    "\n",
    "net.initialize(init.Normal(sigma=0.01))"
   ]
  },
  {
   "cell_type": "code",
   "execution_count": 88,
   "metadata": {},
   "outputs": [],
   "source": [
    "trainer = gluon.Trainer(net.collect_params(),'sgd',{'learning_rate':0.03})"
   ]
  },
  {
   "cell_type": "code",
   "execution_count": 95,
   "metadata": {},
   "outputs": [
    {
     "name": "stdout",
     "output_type": "stream",
     "text": [
      "epoch 1, loss: inf\n",
      "epoch 2, loss: nan\n",
      "epoch 3, loss: nan\n"
     ]
    }
   ],
   "source": [
    "num_epochs = 3\n",
    "for epoch in range(1,num_epochs+1):\n",
    "    for X,y in train_data:\n",
    "        with autograd.record():\n",
    "            l = square_loss(net(X),y)\n",
    "        l.backward()\n",
    "        trainer.step(batch_size)\n",
    "    l = square_loss(net(X),y)\n",
    "    print('epoch %d, loss: %f' % (epoch, l.mean().asnumpy()))"
   ]
  },
  {
   "cell_type": "code",
   "execution_count": null,
   "metadata": {},
   "outputs": [],
   "source": []
  },
  {
   "cell_type": "code",
   "execution_count": null,
   "metadata": {},
   "outputs": [],
   "source": []
  },
  {
   "cell_type": "code",
   "execution_count": null,
   "metadata": {},
   "outputs": [],
   "source": []
  },
  {
   "cell_type": "code",
   "execution_count": 69,
   "metadata": {},
   "outputs": [],
   "source": [
    "\n",
    "def SGD(params, lr):\n",
    "    for param in params:\n",
    "        param[:] = param - lr * param.grad\n",
    "\n"
   ]
  },
  {
   "cell_type": "code",
   "execution_count": 74,
   "metadata": {},
   "outputs": [
    {
     "name": "stdout",
     "output_type": "stream",
     "text": [
      "0.013496674939990044\n",
      "0.01300440527498722\n",
      "0.012621259778738021\n",
      "0.012309546813368797\n",
      "0.011932970374822617\n",
      "0.011588713429868221\n",
      "0.011399611577391625\n",
      "0.011201568484306335\n",
      "0.010896110579371452\n",
      "0.010579883664846421\n"
     ]
    }
   ],
   "source": [
    "epochs = 10\n",
    "learning_rate = .0001\n",
    "num_batches = num_examples/batch_size\n",
    "\n",
    "for e in range(epochs):\n",
    "    cumulative_loss = 0\n",
    "    # inner loop\n",
    "    for i, (data, label) in enumerate(train_data):\n",
    "        data = data.as_in_context(model_ctx)\n",
    "        label = label.as_in_context(model_ctx).reshape((-1, 1))\n",
    "        with autograd.record():\n",
    "            output = net(data)\n",
    "            loss = square_loss(output, label)\n",
    "        loss.backward()\n",
    "        SGD(params, learning_rate)\n",
    "        cumulative_loss += loss.asscalar()\n",
    "    print(cumulative_loss / num_batches)\n",
    "\n"
   ]
  },
  {
   "cell_type": "code",
   "execution_count": 71,
   "metadata": {},
   "outputs": [
    {
     "data": {
      "image/png": "[encoded data removed]",
      "text/plain": [
       "<Figure size 432x288 with 2 Axes>"
      ]
     },
     "metadata": {
      "needs_background": "light"
     },
     "output_type": "display_data"
    },
    {
     "name": "stdout",
     "output_type": "stream",
     "text": [
      "Epoch 0, batch 69. Mean loss: 0.25121335594058036\n",
      "Epoch 1, batch 69. Mean loss: 0.022989768570661546\n",
      "Epoch 2, batch 69. Mean loss: 0.02148259346485138\n",
      "Epoch 3, batch 69. Mean loss: 0.020613550090789794\n",
      "Epoch 4, batch 69. Mean loss: 0.019116942670941352\n",
      "Epoch 5, batch 69. Mean loss: 0.01809508506283164\n",
      "Epoch 6, batch 69. Mean loss: 0.016835250132344663\n",
      "Epoch 7, batch 69. Mean loss: 0.01571707253679633\n",
      "Epoch 8, batch 69. Mean loss: 0.015033737808465958\n",
      "Epoch 9, batch 69. Mean loss: 0.013887657843530177\n"
     ]
    },
    {
     "data": {
      "image/png": "[encoded data removed]",
      "text/plain": [
       "<Figure size 432x288 with 2 Axes>"
      ]
     },
     "metadata": {
      "needs_background": "light"
     },
     "output_type": "display_data"
    }
   ],
   "source": [
    "############################################\n",
    "#    Re-initialize parameters because they\n",
    "#    were already trained in the first loop\n",
    "############################################\n",
    "w[:] = nd.random_normal(shape=(num_inputs, num_outputs), ctx=model_ctx)\n",
    "b[:] = nd.random_normal(shape=num_outputs, ctx=model_ctx)\n",
    "\n",
    "############################################\n",
    "#    Script to plot the losses over time\n",
    "############################################\n",
    "def plot(losses, X, sample_size=100):\n",
    "    xs = list(range(len(losses)))\n",
    "    f, (fg1, fg2) = plt.subplots(1, 2)\n",
    "    fg1.set_title('Loss during training')\n",
    "    fg1.plot(xs, losses, '-r')\n",
    "    fg2.set_title('Estimated vs real function')\n",
    "    fg2.plot(X[:sample_size, 1].asnumpy(),\n",
    "             net(X[:sample_size, :]).asnumpy(), 'or', label='Estimated')\n",
    "    fg2.plot(X[:sample_size, 1].asnumpy(),\n",
    "             real_fn(X[:sample_size, :]).asnumpy(), '*g', label='Real')\n",
    "    fg2.legend()\n",
    "\n",
    "    plt.show()\n",
    "\n",
    "learning_rate = .0001\n",
    "losses = []\n",
    "plot(losses, X)\n",
    "\n",
    "for e in range(epochs):\n",
    "    cumulative_loss = 0\n",
    "    for i, (data, label) in enumerate(train_data):\n",
    "        data = data.as_in_context(model_ctx)\n",
    "        label = label.as_in_context(model_ctx).reshape((-1, 1))\n",
    "        with autograd.record():\n",
    "            output = net(data)\n",
    "            loss = square_loss(output, label)\n",
    "        loss.backward()\n",
    "        SGD(params, learning_rate)\n",
    "        cumulative_loss += loss.asscalar()\n",
    "\n",
    "    print(\"Epoch %s, batch %s. Mean loss: %s\" % (e, i, cumulative_loss/num_batches))\n",
    "    losses.append(cumulative_loss/num_batches)\n",
    "\n",
    "plot(losses, X)"
   ]
  },
  {
   "cell_type": "code",
   "execution_count": 72,
   "metadata": {},
   "outputs": [
    {
     "data": {
      "text/plain": [
       "\n",
       "[[4.34649473e-06]\n",
       " [4.09692530e-06]\n",
       " [3.93598793e-06]\n",
       " [1.95959933e-06]\n",
       " [2.55905638e-06]\n",
       " [2.45396291e-06]\n",
       " [2.94605229e-06]\n",
       " [3.55378234e-06]\n",
       " [3.93533037e-06]\n",
       " [3.82892085e-06]\n",
       " [2.87744410e-06]\n",
       " [3.29524096e-06]\n",
       " [3.56955070e-06]\n",
       " [3.69949362e-06]\n",
       " [3.55100906e-06]\n",
       " [2.65723770e-06]\n",
       " [2.93558014e-06]\n",
       " [3.58719171e-06]\n",
       " [2.53002122e-06]\n",
       " [3.78285085e-06]\n",
       " [5.91967364e-06]\n",
       " [5.86197984e-06]\n",
       " [3.68007773e-06]\n",
       " [3.10777295e-06]\n",
       " [3.10995779e-06]\n",
       " [4.31948047e-06]\n",
       " [5.71526789e-06]\n",
       " [5.75424474e-06]\n",
       " [5.73021543e-06]\n",
       " [2.26332077e-06]\n",
       " [1.65614733e-06]\n",
       " [2.30016303e-06]\n",
       " [4.23603933e-06]\n",
       " [5.10799327e-06]\n",
       " [4.59774401e-06]\n",
       " [4.44928492e-06]\n",
       " [1.84084922e-06]\n",
       " [1.76044261e-06]\n",
       " [1.90732010e-06]\n",
       " [3.14212525e-06]\n",
       " [1.90666060e-06]\n",
       " [2.89387089e-07]\n",
       " [2.89387089e-07]\n",
       " [9.01045439e-07]\n",
       " [2.13956014e-06]\n",
       " [3.22957067e-06]\n",
       " [3.45621902e-06]\n",
       " [2.29121360e-06]\n",
       " [1.92364791e-06]\n",
       " [0.00000000e+00]\n",
       " [2.78014927e-08]\n",
       " [7.47247213e-07]\n",
       " [2.08015535e-06]\n",
       " [6.34773778e-06]\n",
       " [8.35944411e-06]\n",
       " [2.18060200e-06]\n",
       " [3.29071713e-06]\n",
       " [3.49723427e-06]\n",
       " [3.25775522e-06]\n",
       " [2.36341566e-06]\n",
       " [2.79088567e-06]\n",
       " [6.44644842e-06]\n",
       " [8.35747414e-06]\n",
       " [6.52623430e-06]\n",
       " [4.88993146e-06]\n",
       " [3.50750884e-06]\n",
       " [3.62674518e-06]\n",
       " [4.90704087e-06]\n",
       " [5.29733506e-06]\n",
       " [7.25069367e-06]\n",
       " [7.79440688e-06]\n",
       " [3.95401275e-06]\n",
       " [4.38071766e-06]\n",
       " [4.49300205e-06]\n",
       " [2.60491061e-06]\n",
       " [2.08136930e-06]\n",
       " [5.50751611e-06]\n",
       " [5.19753894e-06]\n",
       " [5.84678264e-06]\n",
       " [4.48148330e-06]\n",
       " [2.97294628e-06]\n",
       " [5.88823696e-06]\n",
       " [2.09075256e-06]\n",
       " [2.51111351e-06]\n",
       " [1.75524292e-06]\n",
       " [2.01869943e-06]\n",
       " [2.60814863e-06]\n",
       " [1.56712906e-06]\n",
       " [9.08250331e-06]\n",
       " [9.19442209e-06]\n",
       " [8.61591707e-06]\n",
       " [8.28796237e-06]\n",
       " [5.10597101e-06]\n",
       " [3.30760281e-06]\n",
       " [7.49887249e-06]\n",
       " [8.01545593e-06]\n",
       " [7.17234934e-06]\n",
       " [6.82216478e-06]\n",
       " [4.57623355e-06]\n",
       " [5.44094564e-06]\n",
       " [5.21777611e-06]\n",
       " [6.35646211e-06]\n",
       " [4.46276499e-06]\n",
       " [3.73094117e-05]\n",
       " [1.38411497e-05]\n",
       " [1.44765245e-05]\n",
       " [1.44921578e-05]\n",
       " [1.66034552e-05]\n",
       " [8.12831604e-06]\n",
       " [3.65360138e-05]\n",
       " [3.63950348e-05]\n",
       " [3.63787476e-05]\n",
       " [3.33594362e-05]\n",
       " [2.64327609e-05]\n",
       " [2.54128245e-05]\n",
       " [2.52327154e-05]\n",
       " [2.26608227e-05]\n",
       " [2.12142550e-05]\n",
       " [2.11000006e-05]\n",
       " [2.10658800e-05]\n",
       " [1.78641440e-05]\n",
       " [1.18570570e-05]\n",
       " [1.44765245e-05]\n",
       " [1.45682643e-05]\n",
       " [1.56538317e-05]\n",
       " [1.66034552e-05]\n",
       " [1.66034552e-05]\n",
       " [9.25530549e-06]\n",
       " [9.26226403e-06]\n",
       " [8.44529768e-06]\n",
       " [8.02172781e-06]\n",
       " [9.84034432e-06]\n",
       " [9.03283126e-06]\n",
       " [9.83990049e-06]\n",
       " [9.64567243e-06]\n",
       " [3.64508633e-05]\n",
       " [3.63950348e-05]\n",
       " [3.14506869e-05]\n",
       " [2.60889228e-05]\n",
       " [2.60816050e-05]\n",
       " [2.60816050e-05]\n",
       " [2.25575150e-05]\n",
       " [2.15280870e-05]\n",
       " [2.15956279e-05]\n",
       " [2.16307180e-05]\n",
       " [2.15804321e-05]\n",
       " [2.10938906e-05]\n",
       " [1.81453524e-05]\n",
       " [1.61251373e-05]\n",
       " [1.29094378e-05]\n",
       " [1.46670482e-05]\n",
       " [1.54849040e-05]\n",
       " [9.19210106e-06]\n",
       " [9.10657764e-06]\n",
       " [8.98935195e-06]\n",
       " [8.58673229e-06]\n",
       " [9.25103814e-06]\n",
       " [1.18646421e-05]\n",
       " [9.54229381e-06]\n",
       " [9.47098033e-06]\n",
       " [9.17565922e-06]\n",
       " [3.30818402e-05]\n",
       " [2.60816050e-05]\n",
       " [2.60187371e-05]\n",
       " [2.59987937e-05]\n",
       " [2.16184599e-05]\n",
       " [2.15296714e-05]\n",
       " [2.17795732e-05]\n",
       " [2.19056164e-05]\n",
       " [2.23260249e-05]\n",
       " [2.23190855e-05]\n",
       " [1.92449061e-05]\n",
       " [1.69385148e-05]\n",
       " [1.65568563e-05]\n",
       " [1.56677779e-05]\n",
       " [1.03342281e-05]\n",
       " [1.26392233e-05]\n",
       " [1.65415640e-05]\n",
       " [1.66038371e-05]\n",
       " [1.66034552e-05]\n",
       " [9.31453815e-06]\n",
       " [8.91977652e-06]\n",
       " [8.73625777e-06]\n",
       " [8.60214914e-06]\n",
       " [9.30078204e-06]\n",
       " [3.30909970e-05]\n",
       " [2.60816050e-05]\n",
       " [2.58224609e-05]\n",
       " [2.57402517e-05]\n",
       " [2.15972614e-05]\n",
       " [2.15296714e-05]\n",
       " [2.18105179e-05]\n",
       " [2.19521680e-05]\n",
       " [2.23260249e-05]\n",
       " [2.22350664e-05]\n",
       " [1.90879600e-05]\n",
       " [1.68473925e-05]\n",
       " [1.65568563e-05]\n",
       " [1.55376547e-05]\n",
       " [9.70369001e-06]\n",
       " [1.19781207e-05]\n",
       " [1.69543200e-05]\n",
       " [1.69205923e-05]\n",
       " [1.68756360e-05]\n",
       " [8.89181865e-06]\n",
       " [8.70114582e-06]\n",
       " [8.62504112e-06]\n",
       " [4.99098205e-05]\n",
       " [4.90223429e-05]\n",
       " [4.65616977e-05]\n",
       " [4.46303638e-05]\n",
       " [2.60816050e-05]\n",
       " [2.48026918e-05]\n",
       " [2.43969880e-05]\n",
       " [2.15296714e-05]\n",
       " [2.15308464e-05]\n",
       " [2.19732938e-05]\n",
       " [2.21956907e-05]\n",
       " [2.23260249e-05]\n",
       " [2.17413399e-05]\n",
       " [1.83053489e-05]\n",
       " [1.65568563e-05]\n",
       " [1.65568326e-05]\n",
       " [8.77628827e-06]\n",
       " [7.69324379e-06]\n",
       " [7.69324379e-06]\n",
       " [1.11365798e-05]\n",
       " [1.82848089e-05]\n",
       " [1.81030537e-05]\n",
       " [1.80029874e-05]\n",
       " [1.02384456e-05]\n",
       " [9.27884321e-06]\n",
       " [5.03845076e-05]\n",
       " [5.00594651e-05]\n",
       " [3.62193605e-05]\n",
       " [2.35393945e-05]\n",
       " [2.20934726e-05]\n",
       " [2.23195511e-05]\n",
       " [2.23260249e-05]\n",
       " [2.11458992e-05]\n",
       " [1.75613386e-05]\n",
       " [1.65568563e-05]\n",
       " [1.37799407e-05]\n",
       " [7.83239011e-06]\n",
       " [7.69324379e-06]\n",
       " [4.45110454e-05]\n",
       " [4.58701943e-05]\n",
       " [3.67281755e-05]\n",
       " [2.17538072e-05]\n",
       " [1.67238832e-05]\n",
       " [1.65568563e-05]\n",
       " [1.64829180e-05]\n",
       " [1.19403849e-05]\n",
       " [7.69324379e-06]\n",
       " [2.14374086e-05]\n",
       " [2.71995013e-05]\n",
       " [2.92839723e-05]\n",
       " [2.83132431e-05]\n",
       " [2.77905292e-05]\n",
       " [2.17538072e-05]\n",
       " [2.17538072e-05]\n",
       " [2.13095245e-05]\n",
       " [2.08872279e-05]\n",
       " [2.06420573e-05]\n",
       " [2.13995318e-05]\n",
       " [2.14774427e-05]\n",
       " [2.15814744e-05]\n",
       " [2.44133280e-05]\n",
       " [2.77089985e-05]\n",
       " [2.93000394e-05]\n",
       " [2.92764671e-05]\n",
       " [2.81608409e-05]\n",
       " [2.68067015e-05]\n",
       " [2.17509278e-05]\n",
       " [2.12713167e-05]\n",
       " [2.11967017e-05]\n",
       " [1.96650817e-05]]\n",
       "<NDArray 277x1 @cpu(0)>"
      ]
     },
     "execution_count": 72,
     "metadata": {},
     "output_type": "execute_result"
    }
   ],
   "source": [
    "Y"
   ]
  },
  {
   "cell_type": "code",
   "execution_count": null,
   "metadata": {},
   "outputs": [],
   "source": []
  },
  {
   "cell_type": "code",
   "execution_count": null,
   "metadata": {},
   "outputs": [],
   "source": [
    "import seaborn as sns"
   ]
  },
  {
   "cell_type": "code",
   "execution_count": 12,
   "metadata": {},
   "outputs": [],
   "source": [
    "import mxnet as mx\n",
    "from mxnet import nd, autograd, gluon"
   ]
  },
  {
   "cell_type": "code",
   "execution_count": 15,
   "metadata": {},
   "outputs": [],
   "source": [
    "data_ctx = mx.cpu()\n",
    "model_ctx = mx.cpu()"
   ]
  },
  {
   "cell_type": "code",
   "execution_count": 35,
   "metadata": {},
   "outputs": [],
   "source": [
    "num_inputs = 2\n",
    "num_outputs = 1\n",
    "num_examples = 10000\n",
    "\n",
    "def real_fn(X):\n",
    "    return 2 * X[:, 0] - 3.4 * X[:, 1] + 4.2\n",
    "\n",
    "X = nd.random_normal(shape=(num_examples, num_inputs), ctx=data_ctx)\n",
    "noise = .1 * nd.random_normal(shape=(num_examples,), ctx=data_ctx)\n",
    "y = real_fn(X) + noise\n",
    "\n"
   ]
  },
  {
   "cell_type": "code",
   "execution_count": 36,
   "metadata": {},
   "outputs": [
    {
     "data": {
      "text/plain": [
       "(10000, 2)"
      ]
     },
     "execution_count": 36,
     "metadata": {},
     "output_type": "execute_result"
    }
   ],
   "source": [
    "X.shape"
   ]
  },
  {
   "cell_type": "code",
   "execution_count": null,
   "metadata": {},
   "outputs": [],
   "source": []
  }
 ],
 "metadata": {
  "kernelspec": {
   "display_name": "xesmf",
   "language": "python",
   "name": "xesmf"
  },
  "language_info": {
   "codemirror_mode": {
    "name": "ipython",
    "version": 3
   },
   "file_extension": ".py",
   "mimetype": "text/x-python",
   "name": "python",
   "nbconvert_exporter": "python",
   "pygments_lexer": "ipython3",
   "version": "3.7.6"
  }
 },
 "nbformat": 4,
 "nbformat_minor": 2
}
