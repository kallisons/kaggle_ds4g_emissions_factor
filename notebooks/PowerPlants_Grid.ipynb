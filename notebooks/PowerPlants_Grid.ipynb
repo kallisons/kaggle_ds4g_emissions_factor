{
 "cells": [
  {
   "cell_type": "code",
   "execution_count": 369,
   "metadata": {},
   "outputs": [],
   "source": [
    "import numpy as np\n",
    "import pandas as pd\n",
    "import json as json\n",
    "import xarray as xr\n",
    "import xesmf as xe\n",
    "import matplotlib.pyplot as plt\n",
    "import cartopy.crs as ccrs\n",
    "import rasterio as rio"
   ]
  },
  {
   "cell_type": "code",
   "execution_count": 370,
   "metadata": {},
   "outputs": [],
   "source": [
    "plants = pd.read_csv('../data/starter_pack/gppd/gppd_120_pr.csv')\n",
    "plants = pd.read_csv('../data/starter_pack/gppd/gppd_120_pr.csv')\n",
    "plants = plants[['capacity_mw', 'estimated_generation_gwh', 'primary_fuel', '.geo']]\n",
    "coordinates = pd.json_normalize(plants['.geo'].apply(json.loads))['coordinates']\n",
    "plants[['longitude', 'latitude']] = pd.DataFrame(coordinates.values.tolist(), index= coordinates.index)\n",
    "plants.drop('.geo', axis=1, inplace=True)"
   ]
  },
  {
   "cell_type": "code",
   "execution_count": 371,
   "metadata": {},
   "outputs": [],
   "source": [
    "plants_fossil = plants[plants['primary_fuel'].isin(['Oil', 'Gas', 'Coal'])].copy()"
   ]
  },
  {
   "cell_type": "code",
   "execution_count": 372,
   "metadata": {},
   "outputs": [],
   "source": [
    "ds_grid = xr.open_dataset('/Users/kasmith/Code/kaggle_ds4g/data/starter_pack/s5p_no2/no2_1year.nc')"
   ]
  },
  {
   "cell_type": "code",
   "execution_count": 373,
   "metadata": {},
   "outputs": [],
   "source": [
    "plants_fossil.reset_index(drop=True, inplace=True)\n",
    "plants_fossil['grid_lon'] = np.nan\n",
    "plants_fossil['position_lon'] = np.ones\n",
    "plants_fossil['grid_lat'] = np.nan\n",
    "plants_fossil['position_lat'] = np.ones\n",
    "lons = ds_grid.lon.values\n",
    "a=0 \n",
    "for lon in plants_fossil.longitude:\n",
    "    lon_diff = abs(lon-lons) \n",
    "    plants_fossil.at[a,'grid_lon'] = lons[np.argmin(lon_diff)]\n",
    "    plants_fossil.at[a,'position_lon'] = np.argmin(lon_diff)\n",
    "    a=a+1\n",
    "\n",
    "lats = ds_grid.lat.values\n",
    "a=0 \n",
    "for lat in plants_fossil.latitude:\n",
    "    lat_diff = abs(lat-lats) \n",
    "    plants_fossil.at[a,'grid_lat'] = lats[np.argmin(lat_diff)]\n",
    "    plants_fossil.at[a,'position_lat'] = np.argmin(lat_diff)\n",
    "    a=a+1"
   ]
  },
  {
   "cell_type": "code",
   "execution_count": 374,
   "metadata": {},
   "outputs": [],
   "source": [
    "plants_fossil['num_plants'] = 1\n",
    "plants_fossil_grid = plants_fossil[['grid_lon', 'grid_lat', 'position_lat', 'position_lon', 'num_plants']].groupby(['grid_lon', 'grid_lat', 'position_lat', 'position_lon'], as_index=False).sum()\n"
   ]
  },
  {
   "cell_type": "code",
   "execution_count": 375,
   "metadata": {},
   "outputs": [
    {
     "data": {
      "text/html": [
       "<div>\n",
       "<style scoped>\n",
       "    .dataframe tbody tr th:only-of-type {\n",
       "        vertical-align: middle;\n",
       "    }\n",
       "\n",
       "    .dataframe tbody tr th {\n",
       "        vertical-align: top;\n",
       "    }\n",
       "\n",
       "    .dataframe thead th {\n",
       "        text-align: right;\n",
       "    }\n",
       "</style>\n",
       "<table border=\"1\" class=\"dataframe\">\n",
       "  <thead>\n",
       "    <tr style=\"text-align: right;\">\n",
       "      <th></th>\n",
       "      <th>grid_lon</th>\n",
       "      <th>grid_lat</th>\n",
       "      <th>position_lat</th>\n",
       "      <th>position_lon</th>\n",
       "      <th>num_plants</th>\n",
       "    </tr>\n",
       "  </thead>\n",
       "  <tbody>\n",
       "    <tr>\n",
       "      <th>0</th>\n",
       "      <td>-67.160371</td>\n",
       "      <td>18.221298</td>\n",
       "      <td>76</td>\n",
       "      <td>36</td>\n",
       "      <td>1</td>\n",
       "    </tr>\n",
       "    <tr>\n",
       "      <th>1</th>\n",
       "      <td>-66.756129</td>\n",
       "      <td>17.983245</td>\n",
       "      <td>129</td>\n",
       "      <td>126</td>\n",
       "      <td>1</td>\n",
       "    </tr>\n",
       "    <tr>\n",
       "      <th>2</th>\n",
       "      <td>-66.751638</td>\n",
       "      <td>18.001211</td>\n",
       "      <td>125</td>\n",
       "      <td>127</td>\n",
       "      <td>2</td>\n",
       "    </tr>\n",
       "    <tr>\n",
       "      <th>3</th>\n",
       "      <td>-66.697739</td>\n",
       "      <td>18.468335</td>\n",
       "      <td>21</td>\n",
       "      <td>139</td>\n",
       "      <td>1</td>\n",
       "    </tr>\n",
       "    <tr>\n",
       "      <th>4</th>\n",
       "      <td>-66.392312</td>\n",
       "      <td>18.445877</td>\n",
       "      <td>26</td>\n",
       "      <td>207</td>\n",
       "      <td>1</td>\n",
       "    </tr>\n",
       "    <tr>\n",
       "      <th>5</th>\n",
       "      <td>-66.230615</td>\n",
       "      <td>17.951804</td>\n",
       "      <td>136</td>\n",
       "      <td>243</td>\n",
       "      <td>2</td>\n",
       "    </tr>\n",
       "    <tr>\n",
       "      <th>6</th>\n",
       "      <td>-66.149767</td>\n",
       "      <td>17.947312</td>\n",
       "      <td>137</td>\n",
       "      <td>261</td>\n",
       "      <td>1</td>\n",
       "    </tr>\n",
       "    <tr>\n",
       "      <th>7</th>\n",
       "      <td>-66.149767</td>\n",
       "      <td>18.454860</td>\n",
       "      <td>24</td>\n",
       "      <td>261</td>\n",
       "      <td>2</td>\n",
       "    </tr>\n",
       "    <tr>\n",
       "      <th>8</th>\n",
       "      <td>-66.140784</td>\n",
       "      <td>17.960787</td>\n",
       "      <td>134</td>\n",
       "      <td>263</td>\n",
       "      <td>1</td>\n",
       "    </tr>\n",
       "    <tr>\n",
       "      <th>9</th>\n",
       "      <td>-66.104851</td>\n",
       "      <td>18.427911</td>\n",
       "      <td>30</td>\n",
       "      <td>271</td>\n",
       "      <td>1</td>\n",
       "    </tr>\n",
       "    <tr>\n",
       "      <th>10</th>\n",
       "      <td>-65.826373</td>\n",
       "      <td>18.104517</td>\n",
       "      <td>102</td>\n",
       "      <td>333</td>\n",
       "      <td>1</td>\n",
       "    </tr>\n",
       "    <tr>\n",
       "      <th>11</th>\n",
       "      <td>-65.669168</td>\n",
       "      <td>18.230281</td>\n",
       "      <td>74</td>\n",
       "      <td>368</td>\n",
       "      <td>1</td>\n",
       "    </tr>\n",
       "    <tr>\n",
       "      <th>12</th>\n",
       "      <td>-65.444589</td>\n",
       "      <td>18.144941</td>\n",
       "      <td>93</td>\n",
       "      <td>418</td>\n",
       "      <td>1</td>\n",
       "    </tr>\n",
       "  </tbody>\n",
       "</table>\n",
       "</div>"
      ],
      "text/plain": [
       "     grid_lon   grid_lat  position_lat  position_lon  num_plants\n",
       "0  -67.160371  18.221298            76            36           1\n",
       "1  -66.756129  17.983245           129           126           1\n",
       "2  -66.751638  18.001211           125           127           2\n",
       "3  -66.697739  18.468335            21           139           1\n",
       "4  -66.392312  18.445877            26           207           1\n",
       "5  -66.230615  17.951804           136           243           2\n",
       "6  -66.149767  17.947312           137           261           1\n",
       "7  -66.149767  18.454860            24           261           2\n",
       "8  -66.140784  17.960787           134           263           1\n",
       "9  -66.104851  18.427911            30           271           1\n",
       "10 -65.826373  18.104517           102           333           1\n",
       "11 -65.669168  18.230281            74           368           1\n",
       "12 -65.444589  18.144941            93           418           1"
      ]
     },
     "execution_count": 375,
     "metadata": {},
     "output_type": "execute_result"
    }
   ],
   "source": [
    "plants_fossil_grid"
   ]
  },
  {
   "cell_type": "code",
   "execution_count": 376,
   "metadata": {},
   "outputs": [],
   "source": [
    "#ds_grid2 = ds_grid.assign(plant_mask = ds_grid2.NO2_column_number_density*0)"
   ]
  },
  {
   "cell_type": "code",
   "execution_count": 377,
   "metadata": {},
   "outputs": [],
   "source": [
    "plants_mask = 0 * np.ones((ds_grid.dims['lat'], ds_grid.dims['lon'])) * np.isnan(ds_grid.NO2_column_number_density.isel(time=0)) \n",
    "plants_mask = plants_mask.drop('time')\n",
    "for x in plants_fossil_grid.index:\n",
    "    plants_mask[plants_fossil_grid.at[x,'position_lat'],plants_fossil_grid.at[x,'position_lon']]=1\n",
    "ds_grid.coords['plants_mask'] = (('lat', 'lon'), mask)"
   ]
  },
  {
   "cell_type": "code",
   "execution_count": 378,
   "metadata": {},
   "outputs": [],
   "source": [
    "#mask.sel(lat=18.454860, lon=-66.149767, method='nearest').values"
   ]
  },
  {
   "cell_type": "code",
   "execution_count": 379,
   "metadata": {},
   "outputs": [
    {
     "data": {
      "text/html": [
       "<pre>&lt;xarray.Dataset&gt;\n",
       "Dimensions:                                  (lat: 148, lon: 475, time: 387)\n",
       "Coordinates:\n",
       "  * time                                     (time) datetime64[ns] 2018-07-01T16:12:59 ... 2019-06-29T17:48:03.000000004\n",
       "  * lon                                      (lon) float64 -67.32 ... -65.19\n",
       "  * lat                                      (lat) float64 18.56 18.56 ... 17.9\n",
       "    plants_mask                              (lat, lon) float64 0.0 0.0 ... 0.0\n",
       "Data variables:\n",
       "    crs                                      int32 ...\n",
       "    NO2_column_number_density                (time, lat, lon) float64 ...\n",
       "    tropospheric_NO2_column_number_density   (time, lat, lon) float64 ...\n",
       "    stratospheric_NO2_column_number_density  (time, lat, lon) float64 ...\n",
       "    NO2_slant_column_number_density          (time, lat, lon) float64 ...\n",
       "    tropopause_pressure                      (time, lat, lon) float64 ...\n",
       "    absorbing_aerosol_index                  (time, lat, lon) float64 ...\n",
       "    cloud_fraction                           (time, lat, lon) float64 ...\n",
       "    sensor_altitude                          (time, lat, lon) float64 ...\n",
       "    sensor_azimuth_angle                     (time, lat, lon) float64 ...\n",
       "    sensor_zenith_angle                      (time, lat, lon) float64 ...\n",
       "    solar_azimuth_angle                      (time, lat, lon) float64 ...\n",
       "    solar_zenith_angle                       (time, lat, lon) float64 ...\n",
       "Attributes:\n",
       "    CDI:                 Climate Data Interface version 1.9.2 (http://mpimet....\n",
       "    Conventions:         CF-1.5\n",
       "    history:             Sun Mar 08 23:55:19 2020: cdo mergetime nc/s5p_no2_2...\n",
       "    GDAL_AREA_OR_POINT:  Area\n",
       "    GDAL:                GDAL 2.4.4, released 2020/01/08\n",
       "    NCO:                 netCDF Operators version 4.9.2 (Homepage = http://nc...\n",
       "    CDO:                 Climate Data Operators version 1.9.2 (http://mpimet....</pre>"
      ],
      "text/plain": [
       "<xarray.Dataset>\n",
       "Dimensions:                                  (lat: 148, lon: 475, time: 387)\n",
       "Coordinates:\n",
       "  * time                                     (time) datetime64[ns] 2018-07-01T16:12:59 ... 2019-06-29T17:48:03.000000004\n",
       "  * lon                                      (lon) float64 -67.32 ... -65.19\n",
       "  * lat                                      (lat) float64 18.56 18.56 ... 17.9\n",
       "    plants_mask                              (lat, lon) float64 0.0 0.0 ... 0.0\n",
       "Data variables:\n",
       "    crs                                      int32 ...\n",
       "    NO2_column_number_density                (time, lat, lon) float64 ...\n",
       "    tropospheric_NO2_column_number_density   (time, lat, lon) float64 ...\n",
       "    stratospheric_NO2_column_number_density  (time, lat, lon) float64 ...\n",
       "    NO2_slant_column_number_density          (time, lat, lon) float64 ...\n",
       "    tropopause_pressure                      (time, lat, lon) float64 ...\n",
       "    absorbing_aerosol_index                  (time, lat, lon) float64 ...\n",
       "    cloud_fraction                           (time, lat, lon) float64 ...\n",
       "    sensor_altitude                          (time, lat, lon) float64 ...\n",
       "    sensor_azimuth_angle                     (time, lat, lon) float64 ...\n",
       "    sensor_zenith_angle                      (time, lat, lon) float64 ...\n",
       "    solar_azimuth_angle                      (time, lat, lon) float64 ...\n",
       "    solar_zenith_angle                       (time, lat, lon) float64 ...\n",
       "Attributes:\n",
       "    CDI:                 Climate Data Interface version 1.9.2 (http://mpimet....\n",
       "    Conventions:         CF-1.5\n",
       "    history:             Sun Mar 08 23:55:19 2020: cdo mergetime nc/s5p_no2_2...\n",
       "    GDAL_AREA_OR_POINT:  Area\n",
       "    GDAL:                GDAL 2.4.4, released 2020/01/08\n",
       "    NCO:                 netCDF Operators version 4.9.2 (Homepage = http://nc...\n",
       "    CDO:                 Climate Data Operators version 1.9.2 (http://mpimet...."
      ]
     },
     "execution_count": 379,
     "metadata": {},
     "output_type": "execute_result"
    }
   ],
   "source": [
    "ds_grid"
   ]
  },
  {
   "cell_type": "code",
   "execution_count": 381,
   "metadata": {},
   "outputs": [
    {
     "data": {
      "image/png": "[encoded data removed]",
      "text/plain": [
       "<Figure size 432x288 with 2 Axes>"
      ]
     },
     "metadata": {},
     "output_type": "display_data"
    }
   ],
   "source": [
    "ax = plt.axes(projection=ccrs.LambertConformal(central_longitude=-65, central_latitude=18))\n",
    "ds_grid['plants_mask'].plot.contourf(ax=ax, transform=ccrs.PlateCarree());\n",
    "ax.coastlines()\n",
    "ax.set_extent([-67.5, -65, 17.5, 19])\n",
    "ax.set_aspect(\"equal\")"
   ]
  },
  {
   "cell_type": "code",
   "execution_count": null,
   "metadata": {},
   "outputs": [],
   "source": [
    "##need a land mask"
   ]
  },
  {
   "cell_type": "code",
   "execution_count": 365,
   "metadata": {},
   "outputs": [],
   "source": [
    "import regionmask"
   ]
  },
  {
   "cell_type": "code",
   "execution_count": 366,
   "metadata": {},
   "outputs": [
    {
     "name": "stderr",
     "output_type": "stream",
     "text": [
      "//anaconda/envs/ee/lib/python3.8/site-packages/cartopy/io/__init__.py:260: DownloadWarning: Downloading: http://naciscdn.org/naturalearth/110m/physical/ne_110m_land.zip\n",
      "  warnings.warn('Downloading: {}'.format(url), DownloadWarning)\n"
     ]
    }
   ],
   "source": [
    "land = regionmask.defined_regions.natural_earth.land_110"
   ]
  },
  {
   "cell_type": "code",
   "execution_count": 367,
   "metadata": {},
   "outputs": [
    {
     "data": {
      "text/plain": [
       "1 'Natural Earth: landmask 110m' Regions (http://www.naturalearthdata.com)\n",
       "lnd"
      ]
     },
     "execution_count": 367,
     "metadata": {},
     "output_type": "execute_result"
    }
   ],
   "source": [
    "land"
   ]
  },
  {
   "cell_type": "code",
   "execution_count": 368,
   "metadata": {},
   "outputs": [
    {
     "name": "stdout",
     "output_type": "stream",
     "text": [
      "1 'Natural Earth: landmask 110m' Regions (http://www.naturalearthdata.com)\n",
      "lnd\n"
     ]
    }
   ],
   "source": [
    "print(land)"
   ]
  },
  {
   "cell_type": "code",
   "execution_count": null,
   "metadata": {},
   "outputs": [],
   "source": []
  }
 ],
 "metadata": {
  "kernelspec": {
   "display_name": "ee",
   "language": "python",
   "name": "ee"
  },
  "language_info": {
   "codemirror_mode": {
    "name": "ipython",
    "version": 3
   },
   "file_extension": ".py",
   "mimetype": "text/x-python",
   "name": "python",
   "nbconvert_exporter": "python",
   "pygments_lexer": "ipython3",
   "version": "3.8.2"
  }
 },
 "nbformat": 4,
 "nbformat_minor": 2
}
